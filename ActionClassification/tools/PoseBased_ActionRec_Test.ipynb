{
 "cells": [
  {
   "cell_type": "markdown",
   "metadata": {
    "nbpresent": {
     "id": "82a2c1c4-c554-465c-9c29-fe4d455d0514"
    }
   },
   "source": [
    "# Action Classification Using Pose-Motion feature representation\n",
    "This script loads the pre-trained network and test it on the test dataset"
   ]
  },
  {
   "cell_type": "code",
   "execution_count": 1,
   "metadata": {
    "nbpresent": {
     "id": "8b6e7038-a603-4099-9912-e7198695d574"
    }
   },
   "outputs": [],
   "source": [
    "# import required packages and global variables\n",
    "import sys\n",
    "import os\n",
    "import io\n",
    "import cPickle as pickle\n",
    "import os.path as osp\n",
    "import numpy as np\n",
    "import math\n",
    "import matplotlib.pyplot as plt\n",
    "import glob\n",
    "import operator\n",
    "%matplotlib inline"
   ]
  },
  {
   "cell_type": "markdown",
   "metadata": {},
   "source": [
    "### Defining global variables"
   ]
  },
  {
   "cell_type": "code",
   "execution_count": 3,
   "metadata": {
    "nbpresent": {
     "id": "28873098-73b5-4bc4-9082-4399083c6091"
    }
   },
   "outputs": [],
   "source": [
    "DTYPE = np.float32\n",
    "height = 1080  # frame height in pixel\n",
    "width = 1920  # frame width in pixel\n",
    "fps = 30.0\n",
    "col_ch = 3\n",
    "sigma = 2\n",
    "resize_scale = 0.125\n",
    "sub_sample =4000\n",
    "num_classes = 5\n",
    "classes=[\n",
    "    'Sitting',\n",
    "    'Sit-to-Stand',\n",
    "    'Standing',\n",
    "    'Walking',\n",
    "    'Stand-to-Sit'\n",
    "]\n",
    "keypoints = [\n",
    "        'nose',\n",
    "        'left_eye',\n",
    "        'right_eye',\n",
    "        'left_ear',\n",
    "        'right_ear',\n",
    "        'left_shoulder',\n",
    "        'right_shoulder',\n",
    "        'left_elbow',\n",
    "        'right_elbow',\n",
    "        'left_wrist',\n",
    "        'right_wrist',\n",
    "        'left_hip',\n",
    "        'right_hip',\n",
    "        'left_knee',\n",
    "        'right_knee',\n",
    "        'left_ankle',\n",
    "        'right_ankle']"
   ]
  },
  {
   "cell_type": "markdown",
   "metadata": {},
   "source": [
    "## Designing the action classification network"
   ]
  },
  {
   "cell_type": "code",
   "execution_count": 4,
   "metadata": {},
   "outputs": [
    {
     "name": "stdout",
     "output_type": "stream",
     "text": [
      "Necessities for action recognition network is imported!\n"
     ]
    }
   ],
   "source": [
    "# import extra liraries required for designing the network\n",
    "from __future__ import absolute_import\n",
    "from __future__ import division\n",
    "from __future__ import print_function\n",
    "from __future__ import unicode_literals\n",
    "import lmdb\n",
    "import shutil\n",
    "import time\n",
    "from imageio import imread\n",
    "import caffe2.python.predictor.predictor_exporter as pe\n",
    "from caffe2.proto import caffe2_pb2\n",
    "from caffe2.python.predictor import mobile_exporter\n",
    "from caffe2.python import (\n",
    "    brew,\n",
    "    core,\n",
    "    model_helper,\n",
    "    net_drawer,\n",
    "    optimizer,\n",
    "    visualize,\n",
    "    workspace,\n",
    "    memonger\n",
    ")\n",
    "from caffe2.python.modeling import initializers\n",
    "from caffe2.python.modeling.parameter_info import ParameterTags\n",
    "# If you would like to see some really detailed initializations,\n",
    "# you can change --caffe2_log_level=0 to --caffe2_log_level=-1\n",
    "core.GlobalInit(['caffe2', '--caffe2_log_level=0'])\n",
    "print(\"Necessities for action recognition network is imported!\")"
   ]
  },
  {
   "cell_type": "code",
   "execution_count": 5,
   "metadata": {},
   "outputs": [
    {
     "name": "stdout",
     "output_type": "stream",
     "text": [
      "Success, you may continue!\n"
     ]
    }
   ],
   "source": [
    "# Train lmdb\n",
    "TRAIN_LMDB = osp.join('/data','BehnazData','Results', 'PoseBased_ActionRec', 'training_3_2_111_lmdb')\n",
    "# Test lmdb\n",
    "TEST_LMDB = osp.join('/data','BehnazData','Results', 'PoseBased_ActionRec', 'testing_3ch_lmdb')\n",
    "\n",
    "# Create uniquely named directory under root_folder to output checkpoints to\n",
    "root_folder = os.path.join('..','classification_net','SingleGPU')\n",
    "unique_timestamp = '2018-12-19_18-05-56'\n",
    "checkpoint_dir = os.path.join(root_folder, unique_timestamp)\n",
    "# Add checkpoints to a given model\n",
    "\n",
    "\n",
    "# Init net\n",
    "INIT_NET = os.path.join(checkpoint_dir, 'TuftsAction_init_net.pb')\n",
    "# Predict net\n",
    "PREDICT_NET = os.path.join(checkpoint_dir, 'TuftsAction_predict_net.pb')\n",
    "\n",
    "\n",
    "# Make sure they all exist\n",
    "if (not os.path.exists(TRAIN_LMDB)) or (not os.path.exists(TEST_LMDB)) or (not os.path.exists(INIT_NET)) or (not os.path.exists(PREDICT_NET)):\n",
    "    print(\"ERROR: input not found!\")\n",
    "else:\n",
    "    print(\"Success, you may continue!\")"
   ]
  },
  {
   "cell_type": "code",
   "execution_count": 6,
   "metadata": {},
   "outputs": [],
   "source": [
    "\n",
    "# Dataset specific params\n",
    "data_db_type = \"lmdb\"\n",
    "image_width = int(width * resize_scale)                # input image width\n",
    "image_height = int(height * resize_scale)               # input image height\n",
    "image_channels = 14 * col_ch                           # input image channels\n",
    "num_classes = 5                                        # number of action classes\n",
    "\n",
    "test_batch_size = 1\n",
    "test_data_count = 626"
   ]
  },
  {
   "cell_type": "markdown",
   "metadata": {},
   "source": [
    "### Defining helper functions"
   ]
  },
  {
   "cell_type": "code",
   "execution_count": 7,
   "metadata": {},
   "outputs": [],
   "source": [
    "\n",
    "def AddInput(model, db, db_type, batch_size, noise=0):\n",
    "    # load the data\n",
    "    data_f32, label, ID = brew.db_input(\n",
    "        model,\n",
    "        blobs_out=[\"data_f32\", \"label\", \"ID\"],\n",
    "        batch_size=batch_size,\n",
    "        db=db,\n",
    "        db_type=db_type,\n",
    "    )\n",
    "    data = model.Cast(data_f32, \"data\", to=core.DataType.FLOAT)\n",
    "    Noise = model.GaussianFill([], \"noise\", shape=[batch_size, image_channels, image_height, image_width], mean=0.0,\n",
    "                              std=1.0, run_once=0)\n",
    "    data_noise = data.Add(Noise, \"data_noise\")\n",
    "    # prevent back-propagation: optional performance improvement; may not be observable at small scale\n",
    "    if noise:\n",
    "        data = model.Copy(data_noise, \"data\")\n",
    "    \n",
    "    data = model.StopGradient(data, data)\n",
    "    data_noise = model.StopGradient(data_noise, data_noise)\n",
    "\n",
    "# mirroring the input tensor operand\n",
    "\n",
    "# Helper function for maintaining the correct height and width dimensions after\n",
    "# convolutional and pooling layers downsample the input data\n",
    "def update_dims(height, width, kernel, stride, pad):\n",
    "    new_height = ((height - kernel + 2*pad)//stride) + 1\n",
    "    new_width = ((width - kernel + 2*pad)//stride) + 1\n",
    "    return new_height, new_width\n",
    "\n",
    "# Defining the action classification network model\n",
    "def Add_Action_Tufts_Model(model, num_classes, image_height, image_width, image_channels, is_test=0):\n",
    "    ################################## Block 1 ############################\n",
    "    # Convolutional layer 1\n",
    "#    conv1_1 = brew.conv(model, 'data', 'conv1_1', dim_in=image_channels, dim_out=64, kernel=3, stride=2, pad=0)\n",
    "#    h,w = update_dims(height=image_height, width=image_width, kernel=3, stride=2, pad=0)\n",
    "    # ReLU layer 1\n",
    "#    relu1_1 = brew.relu(model, conv1_1, 'relu1_1')\n",
    "    # Batch normalization layer 1\n",
    "#    bn1_1 = brew.spatial_bn(model, relu1_1, 'bn1_1', dim_in=64, epsilon=1e-3, momentum=0.1, is_test=is_test)\n",
    "    # Drop out with p=0.25\n",
    "#    dropout1_1 = brew.dropout(model, bn1_1, 'dropout1_1', ratio=0.25, is_test=is_test)\n",
    "    \n",
    "    # Convolutional layer 2\n",
    "#    conv1_2 = brew.conv(model, dropout1_1, 'conv1_2', dim_in=64, dim_out=64, kernel=3, stride=1, pad=0)\n",
    "#    h,w = update_dims(height=h, width=w, kernel=3, stride=1, pad=0)\n",
    "    # ReLU layer 1\n",
    "#    relu1_2 = brew.relu(model, conv1_2, 'relu1_2')\n",
    "    # Batch normalization layer 1\n",
    "#    bn1_2 = brew.spatial_bn(model, relu1_2, 'bn1_2', dim_in=64, epsilon=1e-3, momentum=0.1, is_test=is_test)\n",
    "    # Drop out with p=0.25\n",
    "#    dropout1_2 = brew.dropout(model, bn1_2, 'dropout1_2', ratio=0.25, is_test=is_test)\n",
    "    ##################################### Block 2 ##########################\n",
    "    # Convolutional layer 3\n",
    "    conv2_1 = brew.conv(model, 'data', 'conv2_1', dim_in=image_channels, dim_out=128, kernel=3, stride=2, pad=0)\n",
    "    h,w = update_dims(height=image_height, width=image_width, kernel=3, stride=2, pad=0)\n",
    "    # ReLU layer 1\n",
    "    relu2_1 = brew.relu(model, conv2_1, 'relu2_1')\n",
    "    # Batch normalization layer 1\n",
    "    bn2_1 = brew.spatial_bn(model, relu2_1, 'bn2_1', dim_in=128, epsilon=1e-3, momentum=0.1, is_test=is_test)\n",
    "    # Drop out with p=0.25\n",
    "    dropout2_1 = brew.dropout(model, bn2_1, 'dropout2_1', ratio=0.25, is_test=is_test)\n",
    "    \n",
    "    # Convolutional layer 4\n",
    "    conv2_2 = brew.conv(model, dropout2_1, 'conv2_2', dim_in=128, dim_out=128, kernel=3, stride=1, pad=0)\n",
    "    h,w = update_dims(height=h, width=w, kernel=3, stride=1, pad=0)\n",
    "    # ReLU layer 1\n",
    "    relu2_2 = brew.relu(model, conv2_2, 'relu2_2')\n",
    "    # Batch normalization layer 1\n",
    "    bn2_2 = brew.spatial_bn(model, relu2_2, 'bn2_2', dim_in=128, epsilon=1e-3, momentum=0.1, is_test=is_test)\n",
    "    # Drop out with p=0.25\n",
    "    dropout2_2 = brew.dropout(model, bn2_2, 'dropout2_2', ratio=0.25, is_test=is_test) \n",
    "    ##################################### Block 3 ############################\n",
    "    # Convolutional layer 5\n",
    "    conv3_1 = brew.conv(model, dropout2_2, 'conv3_1', dim_in=128, dim_out=256, kernel=3, stride=2, pad=0)\n",
    "    h,w = update_dims(height=h, width=w, kernel=3, stride=2, pad=0)\n",
    "    # ReLU layer 1\n",
    "    relu3_1 = brew.relu(model, conv3_1, 'relu3_1')\n",
    "    # Batch normalization layer 1\n",
    "    bn3_1 = brew.spatial_bn(model, relu3_1, 'bn3_1', dim_in=256, epsilon=1e-3, momentum=0.1, is_test=is_test)\n",
    "    # Drop out with p=0.25\n",
    "    dropout3_1 = brew.dropout(model, bn3_1, 'dropout3_1', ratio=0.25, is_test=is_test)\n",
    "    \n",
    "    # Convolutional layer 4\n",
    "    conv3_2 = brew.conv(model, dropout3_1, 'conv3_2', dim_in=256, dim_out=256, kernel=3, stride=1, pad=0)\n",
    "    h,w = update_dims(height=h, width=w, kernel=3, stride=1, pad=0)\n",
    "    # ReLU layer 1\n",
    "    relu3_2 = brew.relu(model, conv3_2, 'relu3_2')\n",
    "    # Batch normalization layer 1\n",
    "    bn3_2 = brew.spatial_bn(model, relu3_2, 'bn3_2', dim_in=256, epsilon=1e-3, momentum=0.1, is_test=is_test)\n",
    "    # Drop out with p=0.25\n",
    "    dropout3_2 = brew.dropout(model, bn3_2, 'dropout3_2', ratio=0.25, is_test=is_test)\n",
    "    \n",
    "    # Global average pooling\n",
    "    pool1 = brew.average_pool(model, dropout3_2, 'pool1', global_pooling=True)\n",
    "    # Fully connected layers\n",
    "    pred = brew.fc(model, pool1, 'fc1', dim_in=256, dim_out=num_classes)\n",
    "    # Softmax layer\n",
    "    softmax, loss = model.SoftmaxWithLoss([pred, 'label'], ['softmax', 'loss'])\n",
    "    brew.accuracy(model, [softmax, 'label'], 'accuracy')\n",
    "    model.net.MultiClassAccuracy([softmax, 'label'], ['accuracy_per_class', 'amount_per_class'])\n",
    "    return [loss]\n",
    "def AddOptimizerOps_fixsgd(model):\n",
    "    optimizer.build_sgd(\n",
    "        model,\n",
    "        base_learning_rate=0.01,\n",
    "        policy=\"fixed\",\n",
    "        momentum=0.9,\n",
    "        weight_decay=0.004\n",
    "    )\n",
    "\n",
    "def AddOptimizerOps_adam(model):\n",
    "    # Use adam as optimization function\n",
    "    optimizer.build_adam(\n",
    "        model,\n",
    "        base_learning_rate=base_learning_rate\n",
    "#        policy=\"step\",\n",
    "#        momentum=0.9,\n",
    "#        weight_decay=0.004\n",
    "    )\n",
    "def AddOptimizerOps_sgd(model):\n",
    "    \"\"\"Add optimizer ops.\"\"\"\n",
    "    optimizer.build_sgd(model, base_learning_rate=0.01,\n",
    "                        policy='step', stepsize=1, gamma=0.999,\n",
    "                        momentum=0.9, nesterov=False)\n",
    "    \n",
    "def AddOptimizerOps_nestsgd(model):\n",
    "    brew.add_weight_decay(model, weight_decay)\n",
    "    iter = brew.iter(model, \"iter\")\n",
    "    lr = model.net.LearningRate(\n",
    "        [iter],\n",
    "        \"lr\",\n",
    "        base_lr=base_learning_rate,\n",
    "        policy=\"step\",\n",
    "        stepsize=step_size,\n",
    "        gamma=0.1,\n",
    "    )\n",
    "    for param in model.GetParams():\n",
    "        param_grad = model.param_to_grad[param]\n",
    "        param_momentum = model.param_init_net.ConstantFill(\n",
    "            [param], param + '_momentum', value=0.0\n",
    "        )\n",
    "\n",
    "        # Update param_grad and param_momentum in place\n",
    "        model.net.MomentumSGDUpdate(\n",
    "            [param_grad, param_momentum, lr, param],\n",
    "            [param_grad, param_momentum, param],\n",
    "            # almost 100% but with room to grow\n",
    "            momentum=0.9,\n",
    "            # netsterov is a defenseman for the Montreal Canadiens, but\n",
    "            # Nesterov Momentum works slightly better than standard momentum\n",
    "            nesterov=1,\n",
    "        )\n",
    "def AddAccuracy(model):\n",
    "    accuracy = brew.accuracy(model, [\"softmax\", \"label\"], \"accuracy\")\n",
    "    return accuracy\n",
    "\n",
    "def OptimizeGradientMemory(model, loss):\n",
    "    model.net._net = memonger.share_grad_blobs(\n",
    "        model.net,\n",
    "        loss,\n",
    "        set(model.param_to_grad.values()),\n",
    "        namescope=\"memaction\",\n",
    "        share_activations=False,\n",
    "        )"
   ]
  },
  {
   "cell_type": "markdown",
   "metadata": {},
   "source": [
    "Adding check-points"
   ]
  },
  {
   "cell_type": "markdown",
   "metadata": {},
   "source": [
    "## Defining Training net and Test net creating functions"
   ]
  },
  {
   "cell_type": "code",
   "execution_count": 8,
   "metadata": {},
   "outputs": [],
   "source": [
    "arg_scope = {\"order\": \"NCHW\"}\n",
    "# TRAINING MODEL\n",
    "def createTrainModel(training_lmdb_path, batch_size):\n",
    "    \"\"\"Create and return a training model, complete with training ops.\"\"\"\n",
    "    train_model = model_helper.ModelHelper(name='train_net', arg_scope=arg_scope)\n",
    "    AddInput(train_model, db=training_lmdb_path, db_type=data_db_type, batch_size=batch_size)\n",
    "    losses = Add_Action_Tufts_Model(train_model,num_classes, image_height, image_width, image_channels, is_test=0)\n",
    "    train_model.AddGradientOperators(losses)\n",
    "    AddOptimizerOps_adam(train_model)\n",
    "    AddCheckpoints(train_model, checkpoint_iters, db_type=\"lmdb\")\n",
    "    workspace.RunNetOnce(train_model.param_init_net)\n",
    "    workspace.CreateNet(train_model.net, overwrite=True)\n",
    "    return train_model\n",
    "\n",
    "# VALIDATION MODEL\n",
    "def createValidationModel(validation_lmdb_path, batch_size):\n",
    "    \"\"\"Create and return a test model. Does not include training ops.\"\"\"\n",
    "    val_model = model_helper.ModelHelper(name='val_net', arg_scope=arg_scope, init_params=False)\n",
    "    AddInput(val_model, db=validation_lmdb_path, db_type=data_db_type, batch_size=batch_size)\n",
    "    losses = Add_Action_Tufts_Model(val_model,num_classes, image_height, image_width, image_channels, is_test=1)\n",
    "    workspace.RunNetOnce(val_model.param_init_net)\n",
    "    workspace.CreateNet(val_model.net, overwrite=True)\n",
    "    return val_model\n",
    "\n",
    "def createTestModel(INIT_NET, PREDICT_NET, test_lmdb_path, batch_size, noise=1):\n",
    "    test_model = model_helper.ModelHelper(name=\"test_model\", arg_scope=arg_scope, init_params=False)\n",
    "    AddInput(test_model, db=test_lmdb_path, db_type=data_db_type, batch_size=batch_size, noise=noise)\n",
    "    # Populate the model helper obj with the init net stuff, which provides the \n",
    "    # weight initializations for the model\n",
    "    init_net_proto = caffe2_pb2.NetDef()\n",
    "    with open(INIT_NET, \"rb\") as f:\n",
    "        init_net_proto.ParseFromString(f.read())\n",
    "    test_model.param_init_net = test_model.param_init_net.AppendNet(core.Net(init_net_proto))\n",
    "    # Populate the model helper obj with the predict net stuff, which defines \n",
    "    # the structure of the model\n",
    "    predict_net_proto = caffe2_pb2.NetDef()\n",
    "    with open(PREDICT_NET, \"rb\") as f:\n",
    "        predict_net_proto.ParseFromString(f.read())\n",
    "    test_model.net = test_model.net.AppendNet(core.Net(predict_net_proto))\n",
    "    workspace.RunNetOnce(test_model.param_init_net)\n",
    "    workspace.CreateNet(test_model.net, overwrite=True)\n",
    "    return test_model\n",
    "\n",
    "def createTestModel_2(INIT_NET, test_lmdb_path, batch_size):\n",
    "    test_model = model_helper.ModelHelper(name=\"test_model\", arg_scope=arg_scope, init_params=False)\n",
    "    AddInput(test_model, db=test_lmdb_path, db_type=data_db_type, batch_size=batch_size, noise=1)\n",
    "    Add_Action_Tufts_Model(test_model,num_classes, image_height, image_width, image_channels, is_test=1)\n",
    "    # Populate the model helper obj with the init net stuff, which provides the \n",
    "    # weight initializations for the model\n",
    "    init_net_proto = caffe2_pb2.NetDef()\n",
    "    with open(INIT_NET, \"rb\") as f:\n",
    "        init_net_proto.ParseFromString(f.read())\n",
    "    test_model.param_init_net = test_model.param_init_net.AppendNet(core.Net(init_net_proto))\n",
    "    # Populate the model helper obj with the predict net stuff, which defines \n",
    "    # the structure of the model\n",
    "    workspace.RunNetOnce(test_model.param_init_net)\n",
    "    workspace.CreateNet(test_model.net, overwrite=True)\n",
    "    return test_model"
   ]
  },
  {
   "cell_type": "code",
   "execution_count": 10,
   "metadata": {},
   "outputs": [
    {
     "name": "stderr",
     "output_type": "stream",
     "text": [
      "WARNING:root:You are creating an op that the ModelHelper does not recognize: GaussianFill.\n"
     ]
    },
    {
     "name": "stdout",
     "output_type": "stream",
     "text": [
      "Test total accuracy:0.514376997948, Per class test accuracy:[0.53333333 0.08888889 0.91034483 0.64492754 0.15517241]\n",
      "Per class data count: Sitting=150, Sit-to-Stand=135, Standing=145, Walking=138, Stand-to-Sit=58\n",
      "total elapsed time is 45.4628889561\n"
     ]
    },
    {
     "name": "stderr",
     "output_type": "stream",
     "text": [
      "/home/behnazrezaei/anaconda2/lib/python2.7/site-packages/ipykernel/__main__.py:33: RuntimeWarning: Mean of empty slice.\n",
      "/home/behnazrezaei/anaconda2/lib/python2.7/site-packages/numpy/core/_methods.py:80: RuntimeWarning: invalid value encountered in double_scalars\n",
      "  ret = ret.dtype.type(ret / rcount)\n"
     ]
    }
   ],
   "source": [
    "# confusion matrix\n",
    "cmat = np.zeros((5,5))\n",
    "device = 2\n",
    "with core.DeviceScope(core.DeviceOption(caffe2_pb2.CUDA, device)):\n",
    "    test_model = createTestModel_2(INIT_NET, TEST_LMDB, batch_size=test_batch_size)\n",
    "# iteraring the forward/ backword pass for optimizing variables\n",
    "test_iter_per_epoch = test_data_count // test_batch_size\n",
    "# Now, we run the network (forward & backward pass)\n",
    "losses = []\n",
    "accuracies = []\n",
    "accuracies_per_class = []\n",
    "class_count = []\n",
    "pred = []\n",
    "true = []\n",
    "Ids = []\n",
    "t0 = time.time()\n",
    "for _ in range(test_iter_per_epoch):        \n",
    "    workspace.RunNet(test_model.net)\n",
    "#    losses.append(workspace.FetchBlob('loss'))\n",
    "    accuracies.append(workspace.FetchBlob('accuracy'))\n",
    "#    accuracies_per_class.append(workspace.FetchBlob('accuracy_per_class'))\n",
    "    class_count.append(workspace.FetchBlob('amount_per_class'))\n",
    "    results = workspace.FetchBlob('softmax')[0]\n",
    "    label = workspace.FetchBlob('label')[0]\n",
    "#    Ids.append(workspace.FetchBlob(\"ID\"))\n",
    "    max_index, max_value = max(enumerate(results), key=operator.itemgetter(1))\n",
    "    pred.append(classes[max_index])\n",
    "    true.append(label)\n",
    "    # Update confusion matrix\n",
    "    cmat[label,max_index] += 1\n",
    "t1 = time.time()\n",
    "dt = t1 - t0\n",
    "test_loss = np.array(losses).mean()\n",
    "test_total_accuracy = np.array(accuracies).mean()\n",
    "test_class_accuracy = np.diag(cmat)/np.sum(cmat, axis=1)\n",
    "test_class_count = np.array(class_count).sum(axis=0)\n",
    "print(\"Test total accuracy:{}, Per class test accuracy:{}\"\n",
    "        .format(test_total_accuracy, test_class_accuracy))\n",
    "\n",
    "print(\"Per class data count: Sitting={}, Sit-to-Stand={}, Standing={}, Walking={}, Stand-to-Sit={}\"\n",
    "      .format(test_class_count[0], test_class_count[1],\n",
    "            test_class_count[2], test_class_count[3],\n",
    "            test_class_count[4]))\n",
    "print('total elapsed time is {}'.format(dt))  "
   ]
  },
  {
   "cell_type": "markdown",
   "metadata": {},
   "source": [
    "### Plot confusion matrix"
   ]
  },
  {
   "cell_type": "code",
   "execution_count": 12,
   "metadata": {},
   "outputs": [
    {
     "data": {
      "image/png": "[encoded data removed]",
      "text/plain": [
       "<Figure size 360x360 with 1 Axes>"
      ]
     },
     "metadata": {},
     "output_type": "display_data"
    }
   ],
   "source": [
    "# Plot confusion matrix\n",
    "fig = plt.figure(figsize=(5,5))\n",
    "plt.tight_layout()\n",
    "ax = fig.add_subplot(111)\n",
    "res = ax.imshow(cmat, cmap=plt.cm.summer, interpolation='nearest')\n",
    "width, height = cmat.shape\n",
    "for x in xrange(width):\n",
    "    for y in xrange(height):\n",
    "        ax.annotate(str(cmat[x,y]), xy=(y, x),horizontalalignment='center',verticalalignment='center')\n",
    "plt.xticks(range(width), classes, rotation=0)\n",
    "plt.yticks(range(height), classes, rotation=0)\n",
    "ax.set_xlabel('Predicted Class')\n",
    "ax.set_ylabel('True Class')\n",
    "plt.title('Confusion Matrix for test')\n",
    "plt.show()"
   ]
  },
  {
   "cell_type": "code",
   "execution_count": 14,
   "metadata": {},
   "outputs": [
    {
     "ename": "IndexError",
     "evalue": "list index out of range",
     "output_type": "error",
     "traceback": [
      "\u001b[0;31m---------------------------------------------------------------------------\u001b[0m",
      "\u001b[0;31mIndexError\u001b[0m                                Traceback (most recent call last)",
      "\u001b[0;32m<ipython-input-14-09321e1a85aa>\u001b[0m in \u001b[0;36m<module>\u001b[0;34m()\u001b[0m\n\u001b[1;32m      7\u001b[0m     \u001b[0mf\u001b[0m\u001b[0;34m.\u001b[0m\u001b[0mwrite\u001b[0m\u001b[0;34m(\u001b[0m\u001b[0;34m\" clip address, true class, predicted class \\n\"\u001b[0m\u001b[0;34m)\u001b[0m\u001b[0;34m\u001b[0m\u001b[0m\n\u001b[1;32m      8\u001b[0m     \u001b[0;32mfor\u001b[0m \u001b[0mj\u001b[0m \u001b[0;32min\u001b[0m \u001b[0mrange\u001b[0m\u001b[0;34m(\u001b[0m\u001b[0mlen\u001b[0m\u001b[0;34m(\u001b[0m\u001b[0mpred\u001b[0m\u001b[0;34m)\u001b[0m\u001b[0;34m)\u001b[0m\u001b[0;34m:\u001b[0m\u001b[0;34m\u001b[0m\u001b[0m\n\u001b[0;32m----> 9\u001b[0;31m         \u001b[0mindx\u001b[0m \u001b[0;34m=\u001b[0m \u001b[0mint\u001b[0m\u001b[0;34m(\u001b[0m\u001b[0mIds\u001b[0m\u001b[0;34m[\u001b[0m\u001b[0mj\u001b[0m\u001b[0;34m]\u001b[0m\u001b[0;34m-\u001b[0m\u001b[0;36m1\u001b[0m\u001b[0;34m)\u001b[0m\u001b[0;34m\u001b[0m\u001b[0m\n\u001b[0m\u001b[1;32m     10\u001b[0m         \u001b[0mf\u001b[0m\u001b[0;34m.\u001b[0m\u001b[0mwrite\u001b[0m\u001b[0;34m(\u001b[0m\u001b[0mlines\u001b[0m\u001b[0;34m[\u001b[0m\u001b[0mindx\u001b[0m\u001b[0;34m]\u001b[0m\u001b[0;34m.\u001b[0m\u001b[0mrstrip\u001b[0m\u001b[0;34m(\u001b[0m\u001b[0;34m)\u001b[0m\u001b[0;34m+\u001b[0m\u001b[0;34m'\\t'\u001b[0m\u001b[0;34m+\u001b[0m \u001b[0mclasses\u001b[0m\u001b[0;34m[\u001b[0m\u001b[0mtrue\u001b[0m\u001b[0;34m[\u001b[0m\u001b[0mj\u001b[0m\u001b[0;34m]\u001b[0m\u001b[0;34m]\u001b[0m \u001b[0;34m+\u001b[0m \u001b[0;34m'\\t'\u001b[0m\u001b[0;34m+\u001b[0m \u001b[0mpred\u001b[0m\u001b[0;34m[\u001b[0m\u001b[0mj\u001b[0m\u001b[0;34m]\u001b[0m \u001b[0;34m+\u001b[0m \u001b[0;34m'\\n'\u001b[0m\u001b[0;34m)\u001b[0m\u001b[0;34m\u001b[0m\u001b[0m\n\u001b[1;32m     11\u001b[0m \u001b[0;34m\u001b[0m\u001b[0m\n",
      "\u001b[0;31mIndexError\u001b[0m: list index out of range"
     ]
    }
   ],
   "source": [
    "# save the prediction results in a text file\n",
    "pred_file = os.path.join(checkpoint_dir, 'test_prediction.txt')\n",
    "testing_labels_path = osp.join(TEST_LMDB, 'valid_data_list.txt')\n",
    "labels_handler = open(testing_labels_path, \"r\")\n",
    "lines = labels_handler.readlines()\n",
    "with open(pred_file, 'wb') as f:\n",
    "    f.write(\" clip address, true class, predicted class \\n\")\n",
    "    for j in range(len(pred)):\n",
    "        indx = int(Ids[j]-1)\n",
    "        f.write(lines[indx].rstrip()+'\\t'+ classes[true[j]] + '\\t'+ pred[j] + '\\n')\n",
    "        \n",
    "labels_handler.close()\n",
    "f.close()"
   ]
  },
  {
   "cell_type": "code",
   "execution_count": null,
   "metadata": {},
   "outputs": [],
   "source": []
  }
 ],
 "metadata": {
  "kernelspec": {
   "display_name": "Python [conda env:anaconda2]",
   "language": "python",
   "name": "conda-env-anaconda2-py"
  },
  "language_info": {
   "codemirror_mode": {
    "name": "ipython",
    "version": 2
   },
   "file_extension": ".py",
   "mimetype": "text/x-python",
   "name": "python",
   "nbconvert_exporter": "python",
   "pygments_lexer": "ipython2",
   "version": "2.7.15"
  }
 },
 "nbformat": 4,
 "nbformat_minor": 2
}
